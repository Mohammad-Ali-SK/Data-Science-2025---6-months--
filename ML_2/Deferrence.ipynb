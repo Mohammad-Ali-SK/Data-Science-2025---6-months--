{
 "cells": [
  {
   "cell_type": "markdown",
   "id": "361a9ebf",
   "metadata": {},
   "source": [
    "\n",
    "---\n",
    "\n",
    "### **1. Regression**\n",
    "\n",
    "* **Goal:** Predict a **continuous** numerical value.\n",
    "* **Example:** Predicting house prices, predicting temperature, predicting sales revenue.\n",
    "* **Output type:** A number (can be decimal or integer).\n",
    "* **Example output:** `₹5,43,000` or `29.4°C`\n",
    "* **Real-world analogy:** Like trying to guess someone’s exact age based on their photo.\n",
    "\n",
    "---\n",
    "\n",
    "### **2. Classification**\n",
    "\n",
    "* **Goal:** Predict a **category** or **class** label.\n",
    "* **Example:** Spam vs Not Spam emails, Disease present vs Not present, Sentiment analysis (positive, neutral, negative).\n",
    "* **Output type:** Discrete categories.\n",
    "* **Example output:** `\"Dog\"`, `\"Cat\"`, `\"Rabbit\"`.\n",
    "* **Real-world analogy:** Like guessing whether a fruit is an **apple**, **orange**, or **banana** just by looking at it.\n",
    "\n",
    "---\n",
    "\n",
    "### **3. Clustering**\n",
    "\n",
    "* **Goal:** Group similar data points **without predefined labels** (unsupervised).\n",
    "* **Example:** Customer segmentation in marketing, grouping similar news articles, image grouping.\n",
    "* **Output type:** Cluster IDs (e.g., Cluster 1, Cluster 2) — names are not predefined.\n",
    "* **Example output:** Group 1 = young customers, Group 2 = middle-aged customers.\n",
    "* **Real-world analogy:** Like grouping a basket of fruits by similarity in shape and color without knowing their names.\n",
    "\n",
    "---\n",
    "\n",
    "### **Quick Comparison Table**\n",
    "\n",
    "| Feature          | Regression          | Classification      | Clustering            |\n",
    "| ---------------- | ------------------- | ------------------- | --------------------- |\n",
    "| **Type**         | Supervised Learning | Supervised Learning | Unsupervised Learning |\n",
    "| **Output**       | Continuous number   | Category/label      | Group/cluster         |\n",
    "| **Examples**     | Price prediction    | Spam detection      | Customer segmentation |\n",
    "| **Target data?** | Yes (numeric)       | Yes (categorical)   | No (unlabeled data)   |\n",
    "\n",
    "---\n",
    "\n"
   ]
  },
  {
   "cell_type": "markdown",
   "id": "0dc69461",
   "metadata": {},
   "source": []
  }
 ],
 "metadata": {
  "kernelspec": {
   "display_name": "Python 3",
   "language": "python",
   "name": "python3"
  },
  "language_info": {
   "name": "python",
   "version": "3.12.3"
  }
 },
 "nbformat": 4,
 "nbformat_minor": 5
}
