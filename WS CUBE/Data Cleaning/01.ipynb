{
 "cells": [
  {
   "cell_type": "code",
   "execution_count": 1,
   "id": "54f1f77e",
   "metadata": {},
   "outputs": [],
   "source": [
    "import numpy as np\n",
    "import pandas as pd\n",
    "import matplotlib.pyplot as plt\n",
    "import seaborn as sns"
   ]
  },
  {
   "cell_type": "code",
   "execution_count": 2,
   "id": "d0d0dc22",
   "metadata": {},
   "outputs": [
    {
     "data": {
      "text/html": [
       "<div>\n",
       "<style scoped>\n",
       "    .dataframe tbody tr th:only-of-type {\n",
       "        vertical-align: middle;\n",
       "    }\n",
       "\n",
       "    .dataframe tbody tr th {\n",
       "        vertical-align: top;\n",
       "    }\n",
       "\n",
       "    .dataframe thead th {\n",
       "        text-align: right;\n",
       "    }\n",
       "</style>\n",
       "<table border=\"1\" class=\"dataframe\">\n",
       "  <thead>\n",
       "    <tr style=\"text-align: right;\">\n",
       "      <th></th>\n",
       "      <th>EmployeeID</th>\n",
       "      <th>Name</th>\n",
       "      <th>Department</th>\n",
       "      <th>JobRole</th>\n",
       "      <th>Age</th>\n",
       "      <th>Gender</th>\n",
       "      <th>Education</th>\n",
       "      <th>EducationField</th>\n",
       "      <th>MaritalStatus</th>\n",
       "      <th>HireDate</th>\n",
       "      <th>YearsAtCompany</th>\n",
       "      <th>YearsInCurrentRole</th>\n",
       "      <th>YearsSinceLastPromotion</th>\n",
       "      <th>YearsWithCurrentManager</th>\n",
       "      <th>MonthlyIncome</th>\n",
       "      <th>PerformanceRating</th>\n",
       "      <th>JobSatisfaction</th>\n",
       "      <th>Attrition</th>\n",
       "      <th>OverTime</th>\n",
       "      <th>TrainingTimesLastYear</th>\n",
       "    </tr>\n",
       "  </thead>\n",
       "  <tbody>\n",
       "    <tr>\n",
       "      <th>0</th>\n",
       "      <td>1</td>\n",
       "      <td>Employee_1</td>\n",
       "      <td>Sales</td>\n",
       "      <td>Team Lead</td>\n",
       "      <td>49</td>\n",
       "      <td>Male</td>\n",
       "      <td>PhD</td>\n",
       "      <td>Human Resources</td>\n",
       "      <td>Divorced</td>\n",
       "      <td>2019-01-09</td>\n",
       "      <td>20</td>\n",
       "      <td>10</td>\n",
       "      <td>6</td>\n",
       "      <td>2</td>\n",
       "      <td>10871</td>\n",
       "      <td>5</td>\n",
       "      <td>3</td>\n",
       "      <td>Yes</td>\n",
       "      <td>No</td>\n",
       "      <td>1</td>\n",
       "    </tr>\n",
       "    <tr>\n",
       "      <th>1</th>\n",
       "      <td>2</td>\n",
       "      <td>Employee_2</td>\n",
       "      <td>Finance</td>\n",
       "      <td>Team Lead</td>\n",
       "      <td>39</td>\n",
       "      <td>Male</td>\n",
       "      <td>Masters</td>\n",
       "      <td>Marketing</td>\n",
       "      <td>Married</td>\n",
       "      <td>2001-06-21</td>\n",
       "      <td>5</td>\n",
       "      <td>0</td>\n",
       "      <td>5</td>\n",
       "      <td>11</td>\n",
       "      <td>13875</td>\n",
       "      <td>4</td>\n",
       "      <td>2</td>\n",
       "      <td>No</td>\n",
       "      <td>No</td>\n",
       "      <td>2</td>\n",
       "    </tr>\n",
       "    <tr>\n",
       "      <th>2</th>\n",
       "      <td>3</td>\n",
       "      <td>Employee_3</td>\n",
       "      <td>Operations</td>\n",
       "      <td>Analyst</td>\n",
       "      <td>44</td>\n",
       "      <td>Other</td>\n",
       "      <td>PhD</td>\n",
       "      <td>Medical</td>\n",
       "      <td>Married</td>\n",
       "      <td>2010-03-30</td>\n",
       "      <td>8</td>\n",
       "      <td>10</td>\n",
       "      <td>9</td>\n",
       "      <td>13</td>\n",
       "      <td>18230</td>\n",
       "      <td>5</td>\n",
       "      <td>3</td>\n",
       "      <td>Yes</td>\n",
       "      <td>No</td>\n",
       "      <td>5</td>\n",
       "    </tr>\n",
       "    <tr>\n",
       "      <th>3</th>\n",
       "      <td>4</td>\n",
       "      <td>Employee_4</td>\n",
       "      <td>Finance</td>\n",
       "      <td>Consultant</td>\n",
       "      <td>43</td>\n",
       "      <td>Other</td>\n",
       "      <td>Bachelors</td>\n",
       "      <td>Human Resources</td>\n",
       "      <td>Married</td>\n",
       "      <td>2000-09-07</td>\n",
       "      <td>10</td>\n",
       "      <td>8</td>\n",
       "      <td>9</td>\n",
       "      <td>9</td>\n",
       "      <td>17594</td>\n",
       "      <td>1</td>\n",
       "      <td>1</td>\n",
       "      <td>No</td>\n",
       "      <td>No</td>\n",
       "      <td>7</td>\n",
       "    </tr>\n",
       "    <tr>\n",
       "      <th>4</th>\n",
       "      <td>5</td>\n",
       "      <td>Employee_5</td>\n",
       "      <td>IT</td>\n",
       "      <td>Team Lead</td>\n",
       "      <td>48</td>\n",
       "      <td>Female</td>\n",
       "      <td>Masters</td>\n",
       "      <td>Technical Degree</td>\n",
       "      <td>Divorced</td>\n",
       "      <td>2018-10-20</td>\n",
       "      <td>7</td>\n",
       "      <td>1</td>\n",
       "      <td>6</td>\n",
       "      <td>11</td>\n",
       "      <td>14975</td>\n",
       "      <td>5</td>\n",
       "      <td>2</td>\n",
       "      <td>No</td>\n",
       "      <td>No</td>\n",
       "      <td>2</td>\n",
       "    </tr>\n",
       "  </tbody>\n",
       "</table>\n",
       "</div>"
      ],
      "text/plain": [
       "   EmployeeID        Name  Department     JobRole  Age  Gender  Education  \\\n",
       "0           1  Employee_1       Sales   Team Lead   49    Male        PhD   \n",
       "1           2  Employee_2     Finance   Team Lead   39    Male    Masters   \n",
       "2           3  Employee_3  Operations     Analyst   44   Other        PhD   \n",
       "3           4  Employee_4     Finance  Consultant   43   Other  Bachelors   \n",
       "4           5  Employee_5          IT   Team Lead   48  Female    Masters   \n",
       "\n",
       "     EducationField MaritalStatus    HireDate  YearsAtCompany  \\\n",
       "0   Human Resources      Divorced  2019-01-09              20   \n",
       "1         Marketing       Married  2001-06-21               5   \n",
       "2           Medical       Married  2010-03-30               8   \n",
       "3   Human Resources       Married  2000-09-07              10   \n",
       "4  Technical Degree      Divorced  2018-10-20               7   \n",
       "\n",
       "   YearsInCurrentRole  YearsSinceLastPromotion  YearsWithCurrentManager  \\\n",
       "0                  10                        6                        2   \n",
       "1                   0                        5                       11   \n",
       "2                  10                        9                       13   \n",
       "3                   8                        9                        9   \n",
       "4                   1                        6                       11   \n",
       "\n",
       "   MonthlyIncome  PerformanceRating  JobSatisfaction Attrition OverTime  \\\n",
       "0          10871                  5                3       Yes       No   \n",
       "1          13875                  4                2        No       No   \n",
       "2          18230                  5                3       Yes       No   \n",
       "3          17594                  1                1        No       No   \n",
       "4          14975                  5                2        No       No   \n",
       "\n",
       "   TrainingTimesLastYear  \n",
       "0                      1  \n",
       "1                      2  \n",
       "2                      5  \n",
       "3                      7  \n",
       "4                      2  "
      ]
     },
     "execution_count": 2,
     "metadata": {},
     "output_type": "execute_result"
    }
   ],
   "source": [
    "# Load dataset\n",
    "df = pd.read_csv('../hr_analysis_dataset.csv')\n",
    "df.head()\n"
   ]
  },
  {
   "cell_type": "code",
   "execution_count": 3,
   "id": "76a0993c",
   "metadata": {},
   "outputs": [
    {
     "data": {
      "text/plain": [
       "(2000, 20)"
      ]
     },
     "execution_count": 3,
     "metadata": {},
     "output_type": "execute_result"
    }
   ],
   "source": [
    "# Dimension of the dataset\n",
    "df.shape"
   ]
  },
  {
   "cell_type": "code",
   "execution_count": 4,
   "id": "be82f49a",
   "metadata": {},
   "outputs": [
    {
     "data": {
      "text/html": [
       "<div>\n",
       "<style scoped>\n",
       "    .dataframe tbody tr th:only-of-type {\n",
       "        vertical-align: middle;\n",
       "    }\n",
       "\n",
       "    .dataframe tbody tr th {\n",
       "        vertical-align: top;\n",
       "    }\n",
       "\n",
       "    .dataframe thead th {\n",
       "        text-align: right;\n",
       "    }\n",
       "</style>\n",
       "<table border=\"1\" class=\"dataframe\">\n",
       "  <thead>\n",
       "    <tr style=\"text-align: right;\">\n",
       "      <th></th>\n",
       "      <th>EmployeeID</th>\n",
       "      <th>Age</th>\n",
       "      <th>YearsAtCompany</th>\n",
       "      <th>YearsInCurrentRole</th>\n",
       "      <th>YearsSinceLastPromotion</th>\n",
       "      <th>YearsWithCurrentManager</th>\n",
       "      <th>MonthlyIncome</th>\n",
       "      <th>PerformanceRating</th>\n",
       "      <th>JobSatisfaction</th>\n",
       "      <th>TrainingTimesLastYear</th>\n",
       "    </tr>\n",
       "  </thead>\n",
       "  <tbody>\n",
       "    <tr>\n",
       "      <th>count</th>\n",
       "      <td>2000.000000</td>\n",
       "      <td>2000.000000</td>\n",
       "      <td>2000.000000</td>\n",
       "      <td>2000.000000</td>\n",
       "      <td>2000.000000</td>\n",
       "      <td>2000.000000</td>\n",
       "      <td>2000.000000</td>\n",
       "      <td>2000.000000</td>\n",
       "      <td>2000.000000</td>\n",
       "      <td>2000.000000</td>\n",
       "    </tr>\n",
       "    <tr>\n",
       "      <th>mean</th>\n",
       "      <td>1000.500000</td>\n",
       "      <td>39.600500</td>\n",
       "      <td>11.840000</td>\n",
       "      <td>7.008500</td>\n",
       "      <td>4.431000</td>\n",
       "      <td>7.116000</td>\n",
       "      <td>11513.540500</td>\n",
       "      <td>3.036000</td>\n",
       "      <td>2.498000</td>\n",
       "      <td>4.436500</td>\n",
       "    </tr>\n",
       "    <tr>\n",
       "      <th>std</th>\n",
       "      <td>577.494589</td>\n",
       "      <td>11.192879</td>\n",
       "      <td>7.290403</td>\n",
       "      <td>4.311928</td>\n",
       "      <td>2.859953</td>\n",
       "      <td>4.326304</td>\n",
       "      <td>4965.549759</td>\n",
       "      <td>1.425384</td>\n",
       "      <td>1.117417</td>\n",
       "      <td>2.876648</td>\n",
       "    </tr>\n",
       "    <tr>\n",
       "      <th>min</th>\n",
       "      <td>1.000000</td>\n",
       "      <td>21.000000</td>\n",
       "      <td>0.000000</td>\n",
       "      <td>0.000000</td>\n",
       "      <td>0.000000</td>\n",
       "      <td>0.000000</td>\n",
       "      <td>3003.000000</td>\n",
       "      <td>1.000000</td>\n",
       "      <td>1.000000</td>\n",
       "      <td>0.000000</td>\n",
       "    </tr>\n",
       "    <tr>\n",
       "      <th>25%</th>\n",
       "      <td>500.750000</td>\n",
       "      <td>30.000000</td>\n",
       "      <td>5.000000</td>\n",
       "      <td>3.000000</td>\n",
       "      <td>2.000000</td>\n",
       "      <td>3.000000</td>\n",
       "      <td>7199.000000</td>\n",
       "      <td>2.000000</td>\n",
       "      <td>1.000000</td>\n",
       "      <td>2.000000</td>\n",
       "    </tr>\n",
       "    <tr>\n",
       "      <th>50%</th>\n",
       "      <td>1000.500000</td>\n",
       "      <td>40.000000</td>\n",
       "      <td>12.000000</td>\n",
       "      <td>7.000000</td>\n",
       "      <td>4.000000</td>\n",
       "      <td>7.000000</td>\n",
       "      <td>11330.000000</td>\n",
       "      <td>3.000000</td>\n",
       "      <td>3.000000</td>\n",
       "      <td>4.000000</td>\n",
       "    </tr>\n",
       "    <tr>\n",
       "      <th>75%</th>\n",
       "      <td>1500.250000</td>\n",
       "      <td>49.000000</td>\n",
       "      <td>18.000000</td>\n",
       "      <td>11.000000</td>\n",
       "      <td>7.000000</td>\n",
       "      <td>11.000000</td>\n",
       "      <td>15972.500000</td>\n",
       "      <td>4.000000</td>\n",
       "      <td>3.000000</td>\n",
       "      <td>7.000000</td>\n",
       "    </tr>\n",
       "    <tr>\n",
       "      <th>max</th>\n",
       "      <td>2000.000000</td>\n",
       "      <td>59.000000</td>\n",
       "      <td>24.000000</td>\n",
       "      <td>14.000000</td>\n",
       "      <td>9.000000</td>\n",
       "      <td>14.000000</td>\n",
       "      <td>19987.000000</td>\n",
       "      <td>5.000000</td>\n",
       "      <td>4.000000</td>\n",
       "      <td>9.000000</td>\n",
       "    </tr>\n",
       "  </tbody>\n",
       "</table>\n",
       "</div>"
      ],
      "text/plain": [
       "        EmployeeID          Age  YearsAtCompany  YearsInCurrentRole  \\\n",
       "count  2000.000000  2000.000000     2000.000000         2000.000000   \n",
       "mean   1000.500000    39.600500       11.840000            7.008500   \n",
       "std     577.494589    11.192879        7.290403            4.311928   \n",
       "min       1.000000    21.000000        0.000000            0.000000   \n",
       "25%     500.750000    30.000000        5.000000            3.000000   \n",
       "50%    1000.500000    40.000000       12.000000            7.000000   \n",
       "75%    1500.250000    49.000000       18.000000           11.000000   \n",
       "max    2000.000000    59.000000       24.000000           14.000000   \n",
       "\n",
       "       YearsSinceLastPromotion  YearsWithCurrentManager  MonthlyIncome  \\\n",
       "count              2000.000000              2000.000000    2000.000000   \n",
       "mean                  4.431000                 7.116000   11513.540500   \n",
       "std                   2.859953                 4.326304    4965.549759   \n",
       "min                   0.000000                 0.000000    3003.000000   \n",
       "25%                   2.000000                 3.000000    7199.000000   \n",
       "50%                   4.000000                 7.000000   11330.000000   \n",
       "75%                   7.000000                11.000000   15972.500000   \n",
       "max                   9.000000                14.000000   19987.000000   \n",
       "\n",
       "       PerformanceRating  JobSatisfaction  TrainingTimesLastYear  \n",
       "count        2000.000000      2000.000000            2000.000000  \n",
       "mean            3.036000         2.498000               4.436500  \n",
       "std             1.425384         1.117417               2.876648  \n",
       "min             1.000000         1.000000               0.000000  \n",
       "25%             2.000000         1.000000               2.000000  \n",
       "50%             3.000000         3.000000               4.000000  \n",
       "75%             4.000000         3.000000               7.000000  \n",
       "max             5.000000         4.000000               9.000000  "
      ]
     },
     "execution_count": 4,
     "metadata": {},
     "output_type": "execute_result"
    }
   ],
   "source": [
    "# Summary statistics of the dataset\n",
    "df.describe()"
   ]
  },
  {
   "cell_type": "code",
   "execution_count": 5,
   "id": "775ff087",
   "metadata": {},
   "outputs": [
    {
     "data": {
      "text/plain": [
       "EmployeeID                 0\n",
       "Name                       0\n",
       "Department                 0\n",
       "JobRole                    0\n",
       "Age                        0\n",
       "Gender                     0\n",
       "Education                  0\n",
       "EducationField             0\n",
       "MaritalStatus              0\n",
       "HireDate                   0\n",
       "YearsAtCompany             0\n",
       "YearsInCurrentRole         0\n",
       "YearsSinceLastPromotion    0\n",
       "YearsWithCurrentManager    0\n",
       "MonthlyIncome              0\n",
       "PerformanceRating          0\n",
       "JobSatisfaction            0\n",
       "Attrition                  0\n",
       "OverTime                   0\n",
       "TrainingTimesLastYear      0\n",
       "dtype: int64"
      ]
     },
     "execution_count": 5,
     "metadata": {},
     "output_type": "execute_result"
    }
   ],
   "source": [
    "# Check for missing values\n",
    "df.isnull().sum()"
   ]
  },
  {
   "cell_type": "code",
   "execution_count": 6,
   "id": "528132b2",
   "metadata": {},
   "outputs": [
    {
     "data": {
      "text/plain": [
       "Index(['EmployeeID', 'Name', 'Department', 'JobRole', 'Age', 'Gender',\n",
       "       'Education', 'EducationField', 'MaritalStatus', 'HireDate',\n",
       "       'YearsAtCompany', 'YearsInCurrentRole', 'YearsSinceLastPromotion',\n",
       "       'YearsWithCurrentManager', 'MonthlyIncome', 'PerformanceRating',\n",
       "       'JobSatisfaction', 'Attrition', 'OverTime', 'TrainingTimesLastYear'],\n",
       "      dtype='object')"
      ]
     },
     "execution_count": 6,
     "metadata": {},
     "output_type": "execute_result"
    }
   ],
   "source": [
    "df.columns"
   ]
  },
  {
   "cell_type": "code",
   "execution_count": 10,
   "id": "85b15aa0",
   "metadata": {},
   "outputs": [
    {
     "data": {
      "text/plain": [
       "Gender\n",
       "Male      694\n",
       "Female    658\n",
       "Other     648\n",
       "Name: count, dtype: int64"
      ]
     },
     "execution_count": 10,
     "metadata": {},
     "output_type": "execute_result"
    }
   ],
   "source": [
    "df['Gender'].value_counts()\n"
   ]
  },
  {
   "cell_type": "code",
   "execution_count": 11,
   "id": "398ca9ed",
   "metadata": {},
   "outputs": [
    {
     "name": "stdout",
     "output_type": "stream",
     "text": [
      "<class 'pandas.core.frame.DataFrame'>\n",
      "RangeIndex: 2000 entries, 0 to 1999\n",
      "Data columns (total 20 columns):\n",
      " #   Column                   Non-Null Count  Dtype \n",
      "---  ------                   --------------  ----- \n",
      " 0   EmployeeID               2000 non-null   int64 \n",
      " 1   Name                     2000 non-null   object\n",
      " 2   Department               2000 non-null   object\n",
      " 3   JobRole                  2000 non-null   object\n",
      " 4   Age                      2000 non-null   int64 \n",
      " 5   Gender                   2000 non-null   object\n",
      " 6   Education                2000 non-null   object\n",
      " 7   EducationField           2000 non-null   object\n",
      " 8   MaritalStatus            2000 non-null   object\n",
      " 9   HireDate                 2000 non-null   object\n",
      " 10  YearsAtCompany           2000 non-null   int64 \n",
      " 11  YearsInCurrentRole       2000 non-null   int64 \n",
      " 12  YearsSinceLastPromotion  2000 non-null   int64 \n",
      " 13  YearsWithCurrentManager  2000 non-null   int64 \n",
      " 14  MonthlyIncome            2000 non-null   int64 \n",
      " 15  PerformanceRating        2000 non-null   int64 \n",
      " 16  JobSatisfaction          2000 non-null   int64 \n",
      " 17  Attrition                2000 non-null   object\n",
      " 18  OverTime                 2000 non-null   object\n",
      " 19  TrainingTimesLastYear    2000 non-null   int64 \n",
      "dtypes: int64(10), object(10)\n",
      "memory usage: 312.6+ KB\n"
     ]
    }
   ],
   "source": [
    "df.info()"
   ]
  },
  {
   "cell_type": "code",
   "execution_count": 14,
   "id": "1a5fd476",
   "metadata": {},
   "outputs": [
    {
     "data": {
      "text/plain": [
       "<Axes: >"
      ]
     },
     "execution_count": 14,
     "metadata": {},
     "output_type": "execute_result"
    },
    {
     "data": {
      "image/png": "[encoded data removed]",
      "text/plain": [
       "<Figure size 1000x500 with 1 Axes>"
      ]
     },
     "metadata": {},
     "output_type": "display_data"
    }
   ],
   "source": [
    "df['MonthlyIncome'].plot(kind='box', figsize=(10, 5))"
   ]
  },
  {
   "cell_type": "code",
   "execution_count": 15,
   "id": "664e0c4a",
   "metadata": {},
   "outputs": [
    {
     "data": {
      "text/plain": [
       "EmployeeID                 0.0\n",
       "Name                       0.0\n",
       "Department                 0.0\n",
       "JobRole                    0.0\n",
       "Age                        0.0\n",
       "Gender                     0.0\n",
       "Education                  0.0\n",
       "EducationField             0.0\n",
       "MaritalStatus              0.0\n",
       "HireDate                   0.0\n",
       "YearsAtCompany             0.0\n",
       "YearsInCurrentRole         0.0\n",
       "YearsSinceLastPromotion    0.0\n",
       "YearsWithCurrentManager    0.0\n",
       "MonthlyIncome              0.0\n",
       "PerformanceRating          0.0\n",
       "JobSatisfaction            0.0\n",
       "Attrition                  0.0\n",
       "OverTime                   0.0\n",
       "TrainingTimesLastYear      0.0\n",
       "dtype: float64"
      ]
     },
     "execution_count": 15,
     "metadata": {},
     "output_type": "execute_result"
    }
   ],
   "source": [
    "df.isnull().sum()/len(df)*100"
   ]
  },
  {
   "cell_type": "code",
   "execution_count": 16,
   "id": "420e72ac",
   "metadata": {},
   "outputs": [
    {
     "data": {
      "text/plain": [
       "<Axes: >"
      ]
     },
     "execution_count": 16,
     "metadata": {},
     "output_type": "execute_result"
    },
    {
     "data": {
      "image/png": "[encoded data removed]",
      "text/plain": [
       "<Figure size 640x480 with 1 Axes>"
      ]
     },
     "metadata": {},
     "output_type": "display_data"
    }
   ],
   "source": [
    "sns.heatmap(df.isnull(), cbar=False)"
   ]
  },
  {
   "cell_type": "code",
   "execution_count": null,
   "id": "9eb7f948",
   "metadata": {},
   "outputs": [],
   "source": []
  }
 ],
 "metadata": {
  "kernelspec": {
   "display_name": "Python 3",
   "language": "python",
   "name": "python3"
  },
  "language_info": {
   "codemirror_mode": {
    "name": "ipython",
    "version": 3
   },
   "file_extension": ".py",
   "mimetype": "text/x-python",
   "name": "python",
   "nbconvert_exporter": "python",
   "pygments_lexer": "ipython3",
   "version": "3.12.3"
  }
 },
 "nbformat": 4,
 "nbformat_minor": 5
}
